{
 "cells": [
  {
   "cell_type": "markdown",
   "metadata": {},
   "source": [
    "# <center> Hello, World </center>\n",
    "\n",
    "![ ](https://sdtimes.com/wp-content/uploads/2019/07/green-tree-python-1014229_640-490x326.jpg)\n",
    "\n",
    "Did you know that Python was not named after this cute reptile?\n",
    "\n",
    "*'When he began implementing Python, Guido van Rossum [the creator of the Python] was also reading the published scripts from “Monty Python's Flying Circus”, a BBC comedy series from the 1970s. Van Rossum thought he needed a name that was short, unique, and slightly mysterious, so he decided to call the language Python'.* [Python FAQ](https://docs.python.org/3/faq/general.html)\n",
    "\n",
    "Some useful links, so you can recall the material, or find out what you did not know:\n",
    "\n",
    "1. **Python documentation** https://docs.python.org/3/\n",
    "2. **Python official and very long tutorial** https://docs.python.org/3/tutorial/ However, you will find all the information you need in our course there. I recommend to pay attention only to the chapters: 3. Informal Introduction to Python - 9. Classes.\n",
    "\n",
    "Estimated reading time for tutorial's selected chapters: 3-5 hours. Solid Python programming skills - priceless. "
   ]
  },
  {
   "cell_type": "code",
   "execution_count": null,
   "metadata": {},
   "outputs": [],
   "source": [
    "import this"
   ]
  },
  {
   "cell_type": "markdown",
   "metadata": {},
   "source": [
    "# Preliminaries. Fancy use of Jupyter Notebook"
   ]
  },
  {
   "cell_type": "markdown",
   "metadata": {},
   "source": [
    "Here is a [cheat sheet](https://medium.com/edureka/jupyter-notebook-cheat-sheet-88f60d1aca7) on Jupyter Notebook. Take a look at the menu bar first. Make sure you know how to find the key operations in File: Open, Make a Copy, Save as, Rename, Download as.\n",
    "On the bottom bar - check that you remember how to:\n",
    "* **Save the current version of the notebook** (floppy disk icon). If you've been working in your notebook for too long, it's better to click on this icon and save a checkpoint (= an intermediate version of your file). Otherwise, if something goes wrong (connection is lost, your notebook hovers because can't execute your beautiful code anymore, or for any other reason when the universe creates new obstacles for you), your code will not be saved and will be lost. **Shortcut: Ctrl + S / Command + S**\n",
    "\n",
    "* **Add a new cell** (plus icon). Don't code everything in one cell, organize and decompose it. **Shortcuts: Add a cell above: Ctrl + A / Command + A. Add a cell bellow: Ctrl + B / Command + B**\n",
    "\n",
    "* Run a cell (this button is even named there for you). **Shortcut: Shift + Enter**\n",
    "\n",
    "* Delete a cell. **Shortcut: D, D** - double click on D in a command mode.\n",
    "\n",
    "* Interrupt the notebook (black square icon) and restart (circular arrow). In most cases, you use it if: 1) you forgot or did nor realize that your cell's output is too long and heavy to display; 2) you wrote something wrong, for instance, an infinite loop that never ends. **Shortcut to interupt the kernel: I, I** - double-click on the letter I. \n",
    "\n",
    "* Switch to markdown (code cell -> text cell) **M** in command mode or in the menu panel above. If you want to add titles or descriptions to your code, it's better to use markdown instead of the comments (#). \n",
    "> Before using the shortcuts, you need to click somewhere inside the notebook but outside the gray cells for coding/markdown. This is how you activate command mode. An alternative option is to enter the command mode (if you're currently in a gray code cell) - press Esc on your keyboard."
   ]
  },
  {
   "cell_type": "markdown",
   "metadata": {},
   "source": [
    "## Table of Contents\n",
    "1. [Print](#print)\n",
    "2. [Data types](#datatypes)\n",
    "\n",
    "## Print <a name=\"print\"></a>\n",
    "`print( )` is a function in Python3. It prints objects to the text stream file, separated by *sep* and followed by *end*. "
   ]
  },
  {
   "cell_type": "code",
   "execution_count": 2,
   "metadata": {},
   "outputs": [
    {
     "data": {
      "text/plain": [
       "'Hello world'"
      ]
     },
     "execution_count": 2,
     "metadata": {},
     "output_type": "execute_result"
    }
   ],
   "source": [
    "# output returns a string \n",
    "'Hello world'"
   ]
  },
  {
   "cell_type": "code",
   "execution_count": 1,
   "metadata": {},
   "outputs": [
    {
     "name": "stdout",
     "output_type": "stream",
     "text": [
      "Hello world\n"
     ]
    }
   ],
   "source": [
    "# output returns the result of print () function\n",
    "print('Hello world')"
   ]
  },
  {
   "cell_type": "code",
   "execution_count": null,
   "metadata": {},
   "outputs": [],
   "source": [
    "# compare these data types using type()\n"
   ]
  },
  {
   "cell_type": "code",
   "execution_count": 3,
   "metadata": {},
   "outputs": [
    {
     "name": "stdout",
     "output_type": "stream",
     "text": [
      "<class 'int'> <class 'float'>\n"
     ]
    }
   ],
   "source": [
    "a = 5\n",
    "b = 5.5\n",
    "print(type(a), type(b))"
   ]
  },
  {
   "cell_type": "code",
   "execution_count": 4,
   "metadata": {},
   "outputs": [
    {
     "name": "stdout",
     "output_type": "stream",
     "text": [
      "Where is my type\n"
     ]
    },
    {
     "data": {
      "text/plain": [
       "NoneType"
      ]
     },
     "execution_count": 4,
     "metadata": {},
     "output_type": "execute_result"
    }
   ],
   "source": [
    "type(print('Where is my type'))"
   ]
  },
  {
   "cell_type": "markdown",
   "metadata": {},
   "source": [
    "This is because print( ) displays the output as you requested, but does not store it, and its type is NoneType.\n",
    "\n",
    "Why are we using `print( )`?\n",
    "This is useful if you want to see the output of the code above the last line:"
   ]
  },
  {
   "cell_type": "code",
   "execution_count": 2,
   "metadata": {},
   "outputs": [
    {
     "name": "stdout",
     "output_type": "stream",
     "text": [
      "Python is easy\n"
     ]
    }
   ],
   "source": [
    "# \\n - new line\n",
    "'If you are a nerd, \\n'\n",
    "print('Python is easy')"
   ]
  },
  {
   "cell_type": "markdown",
   "metadata": {},
   "source": [
    "Only the last line is printed. What if we want both of them out? Now change the place for print ():"
   ]
  },
  {
   "cell_type": "code",
   "execution_count": 6,
   "metadata": {},
   "outputs": [
    {
     "name": "stdout",
     "output_type": "stream",
     "text": [
      "If you are a nerd,\n"
     ]
    },
    {
     "data": {
      "text/plain": [
       "'Python is easy'"
      ]
     },
     "execution_count": 6,
     "metadata": {},
     "output_type": "execute_result"
    }
   ],
   "source": [
    "print('If you are a nerd,')\n",
    "'Python is easy'"
   ]
  },
  {
   "cell_type": "code",
   "execution_count": 8,
   "metadata": {},
   "outputs": [
    {
     "name": "stdout",
     "output_type": "stream",
     "text": [
      "And I think to myself what a wonderful world!"
     ]
    }
   ],
   "source": [
    "# make sure you understand every character on that line\n",
    "# we have 2 arguments (two string lines) in print()\n",
    "print('And I think to myself', 'what a wonderful world',\\\n",
    "      sep='\\n', end='!')"
   ]
  },
  {
   "cell_type": "markdown",
   "metadata": {},
   "source": [
    "*Sep* = separator; character separating arguments inside the print() function.\n",
    "\n",
    "*End* - you can add characters at the end of your last argument in print( )."
   ]
  },
  {
   "cell_type": "markdown",
   "metadata": {},
   "source": [
    "[Show me more on print!](https://realpython.com/python-print/)"
   ]
  },
  {
   "cell_type": "markdown",
   "metadata": {},
   "source": [
    "## Data types <a name=\"datatypes\"></a>"
   ]
  },
  {
   "cell_type": "markdown",
   "metadata": {},
   "source": [
    "The main types of numbers: **integer** (int), **float**. https://docs.python.org/3/tutorial/introduction.html#numbers"
   ]
  },
  {
   "cell_type": "code",
   "execution_count": null,
   "metadata": {},
   "outputs": [],
   "source": [
    "# string\n"
   ]
  },
  {
   "cell_type": "code",
   "execution_count": null,
   "metadata": {},
   "outputs": [],
   "source": [
    "# integer"
   ]
  },
  {
   "cell_type": "code",
   "execution_count": null,
   "metadata": {},
   "outputs": [],
   "source": [
    "# float "
   ]
  },
  {
   "cell_type": "code",
   "execution_count": null,
   "metadata": {},
   "outputs": [],
   "source": [
    "# float with a remainder into integer\n"
   ]
  },
  {
   "cell_type": "markdown",
   "metadata": {},
   "source": [
    "Wait a minute, where is a remainder?"
   ]
  },
  {
   "cell_type": "code",
   "execution_count": 9,
   "metadata": {},
   "outputs": [
    {
     "name": "stdout",
     "output_type": "stream",
     "text": [
      "-2\n",
      "2 -2 -3 -2\n"
     ]
    }
   ],
   "source": [
    "# mathematical rounding\n",
    "print(round(-2.3))\n",
    "print(round(2.5), int(-2.51), round(-2.51), round(-2.5))"
   ]
  },
  {
   "cell_type": "markdown",
   "metadata": {},
   "source": [
    "Converting a floating point number to an integer is not equal to mathematical rounding."
   ]
  },
  {
   "cell_type": "code",
   "execution_count": null,
   "metadata": {},
   "outputs": [],
   "source": [
    "# the absolute value\n",
    "print(abs(-5.6))"
   ]
  },
  {
   "cell_type": "markdown",
   "metadata": {},
   "source": [
    "**Arithmetical operations**"
   ]
  },
  {
   "cell_type": "code",
   "execution_count": null,
   "metadata": {},
   "outputs": [],
   "source": [
    "# addition"
   ]
  },
  {
   "cell_type": "markdown",
   "metadata": {},
   "source": [
    "<details>\n",
    "  <summary><span style = \"font-weight:bold; color:blue;\"><u><li>Question: </li></u></span>Write a command using print(), it should return in the output 'Sum: 2 + 2 = 4', where 4 is calculated from 2 + 2 (e.g. not stated as a string '4').\n",
    "  </summary>\n",
    "  \n",
    "  <code>\n",
    "print('2 + 2 = ', 2 + 2, sep = '')\n",
    "  </code>\n",
    "\n",
    "</details>"
   ]
  },
  {
   "cell_type": "code",
   "execution_count": 10,
   "metadata": {},
   "outputs": [
    {
     "name": "stdout",
     "output_type": "stream",
     "text": [
      "Subtraction: 2 - 2 = 0 \n",
      "Division: 11 / 5 = 2.2 \n",
      "Integer division: 11 // 5 = 2 \n",
      "Multiplication: 2 * 3 = 6 \n",
      "Power: 2 ** 3 = 8 \n",
      "Remainder of division: 41 % 10 = 1\n"
     ]
    }
   ],
   "source": [
    "print( 'Subtraction: 2 - 2 =', 2 - 2, \n",
    "      '\\nDivision: 11 / 5 =', 11 / 5,\n",
    "      '\\nInteger division: 11 // 5 =', 11 // 5,\n",
    "      '\\nMultiplication: 2 * 3 =', 2 * 3,\n",
    "      '\\nPower: 2 ** 3 =', 2 ** 3,\n",
    "      '\\nRemainder of division: 41 % 10 =', 41 % 10,\n",
    "      sep=' ')"
   ]
  },
  {
   "cell_type": "markdown",
   "metadata": {},
   "source": [
    "For text data we use **strings**. https://docs.python.org/3/tutorial/introduction.html#strings"
   ]
  },
  {
   "cell_type": "code",
   "execution_count": 3,
   "metadata": {},
   "outputs": [
    {
     "name": "stdout",
     "output_type": "stream",
     "text": [
      "Fashion is my profession.\n"
     ]
    },
    {
     "data": {
      "text/plain": [
       "str"
      ]
     },
     "execution_count": 3,
     "metadata": {},
     "output_type": "execute_result"
    }
   ],
   "source": [
    "profession = 'Fashion'\n",
    "\n",
    "print(profession, 'is my profession.')\n",
    "type(profession)"
   ]
  },
  {
   "cell_type": "markdown",
   "metadata": {},
   "source": [
    "**Bool** https://realpython.com/python-boolean/"
   ]
  },
  {
   "cell_type": "code",
   "execution_count": null,
   "metadata": {},
   "outputs": [],
   "source": [
    "type(True)"
   ]
  },
  {
   "cell_type": "code",
   "execution_count": 14,
   "metadata": {},
   "outputs": [
    {
     "data": {
      "text/plain": [
       "True"
      ]
     },
     "execution_count": 14,
     "metadata": {},
     "output_type": "execute_result"
    }
   ],
   "source": [
    "True or False"
   ]
  },
  {
   "cell_type": "code",
   "execution_count": 4,
   "metadata": {},
   "outputs": [
    {
     "data": {
      "text/plain": [
       "1"
      ]
     },
     "execution_count": 4,
     "metadata": {},
     "output_type": "execute_result"
    }
   ],
   "source": [
    "# True = 1, False = 0\n",
    "1 or 0"
   ]
  },
  {
   "cell_type": "code",
   "execution_count": null,
   "metadata": {},
   "outputs": [],
   "source": [
    "True and False"
   ]
  },
  {
   "cell_type": "code",
   "execution_count": 15,
   "metadata": {
    "scrolled": true
   },
   "outputs": [
    {
     "data": {
      "text/plain": [
       "True"
      ]
     },
     "execution_count": 15,
     "metadata": {},
     "output_type": "execute_result"
    }
   ],
   "source": [
    "# = means to store the value (5) with a pointer ('number') variable in memory\n",
    "number = 5\n",
    "\n",
    "# == means 'equal to' and returns True or False\n",
    "number == 5"
   ]
  },
  {
   "cell_type": "markdown",
   "metadata": {},
   "source": [
    "!= means 'not equal to'"
   ]
  },
  {
   "cell_type": "code",
   "execution_count": null,
   "metadata": {},
   "outputs": [],
   "source": [
    "type(number)"
   ]
  },
  {
   "cell_type": "code",
   "execution_count": null,
   "metadata": {},
   "outputs": [],
   "source": [
    "number != 5"
   ]
  },
  {
   "cell_type": "code",
   "execution_count": null,
   "metadata": {},
   "outputs": [],
   "source": [
    "number <= 5"
   ]
  },
  {
   "cell_type": "code",
   "execution_count": 16,
   "metadata": {},
   "outputs": [
    {
     "data": {
      "text/plain": [
       "bool"
      ]
     },
     "execution_count": 16,
     "metadata": {},
     "output_type": "execute_result"
    }
   ],
   "source": [
    "type(number <= 5)"
   ]
  },
  {
   "cell_type": "markdown",
   "metadata": {},
   "source": [
    "> Let's recall our formula on final grade for this course. \n",
    "Final grades = round($0.4 \\cdot Exam + 0.15 \\cdot T + 0.10 \\cdot P1 + 0.15\\cdot P2 + 0.20\\cdot P3)$\n",
    "\n",
    "<details>\n",
    "  <summary><span style = \"font-weight:bold; color:blue;\"><u><li>Question: </li></u></span><li>Calculate a final grade for a student, who received $4.6$ for Exam, $5$ for Test and $0$, $4.8$, and $3.2$ for the presentations. The rounding is a bit tricky as the affordable final grades are $2$, $3$, $3.5$, $4$, $4.5$, and $5$.</li><li>Use <code>print()</code> to output your answer. Do not limit the answer to a number, but add some words to describe the output.</li>\n",
    "  </summary>\n",
    "  \n",
    "  <code>\n",
    "0.4 * 4.6 + (5 * 0.15 + 0 * 0.10 + 4.8 * 0.15 + 3.2 * 0.20)\n",
    "  </code>\n",
    "\n",
    "</details>"
   ]
  },
  {
   "cell_type": "code",
   "execution_count": null,
   "metadata": {},
   "outputs": [],
   "source": [
    "# YOUR CODE HERE\n"
   ]
  },
  {
   "cell_type": "code",
   "execution_count": null,
   "metadata": {},
   "outputs": [],
   "source": [
    "# YOUR CODE HERE (rounding off)\n",
    "import numpy as np\n",
    "prelim_grade = 3.86\n",
    "if prelim_grade < 2.5:\n",
    "    grade = 2\n",
    "elif prelim_grade > 5:\n",
    "    grade = 5\n",
    "elif prelim_grade >= 2.5 and prelim_grade < 3.25:\n",
    "    grade = 3\n",
    "else:\n",
    "    grade = np.round(2 * prelim_grade) / 2\n",
    "print('grade = ', grade)"
   ]
  },
  {
   "cell_type": "code",
   "execution_count": null,
   "metadata": {},
   "outputs": [],
   "source": [
    "# YOUR CODE HERE: combine the equation for the grades and the rounding off"
   ]
  },
  {
   "cell_type": "markdown",
   "metadata": {},
   "source": [
    "2. Calculate a final grade for a student, who received $2.5$ for Exam, $4.8$ for Test and $5$, $3.5$, and $4.2$ for the presentations."
   ]
  },
  {
   "cell_type": "code",
   "execution_count": null,
   "metadata": {},
   "outputs": [],
   "source": [
    "# YOUR CODE HERE"
   ]
  },
  {
   "cell_type": "markdown",
   "metadata": {},
   "source": [
    "3. __User info in a new social network__\n",
    "\n",
    "Let's say, you want to create a social network for specialists and fans of international relations. You need to register each user by asking and storing the information about his/her name, surname, age, country, political preference, favorite political leader, favorite diplomat.\n",
    "\n",
    "Write a program using input() and prompts with relevant questions for a new user. After running your code, the user should answer each of your questions. As a result, you should obtain 7 variables (e.g. 'name', 'surname', etc. -- name the variables as you like) with the answers entered by a user. Convert the value in a variable with age into an integer number. Others should be in string format, check that this condition is satisfied.\n",
    "\n",
    "\n",
    "Run your code and answer to your questions by yourself to check that everything works fine and as expected. \n",
    "\n",
    "### Reminder on input() funciton\n",
    "\n",
    "```python\n",
    "my_name = input()  # read a single line and store it in the variable \"my_name\"\n",
    "print('Hi ' + my_name + '!')\n",
    "```\n",
    "\n",
    "or we can add a prompt for a user:\n",
    "\n",
    "```python\n",
    "my_name = input(\"What's your name?\")  # do the same as above + show the message to a user\n",
    "print('Hi ' + my_name + '!')\n",
    "```\n",
    "\n",
    "Run these lines of code in a cells (with code format) and see the difference. "
   ]
  },
  {
   "cell_type": "code",
   "execution_count": null,
   "metadata": {},
   "outputs": [],
   "source": [
    "my_name = input()  # read a single line and store it in the variable \"my_name\"\n",
    "print('Hi ' + my_name + '!')"
   ]
  },
  {
   "cell_type": "code",
   "execution_count": null,
   "metadata": {},
   "outputs": [],
   "source": [
    "my_name = input(\"What's your name?\")  # do the same as above + show the message to a user\n",
    "print('Hi ' + my_name + '!')\n",
    "print('Hi', my_name, '!')"
   ]
  },
  {
   "cell_type": "markdown",
   "metadata": {},
   "source": [
    "## A Few Words about Functions\n",
    "\n",
    "* clearly, functions has to be introduced later\n",
    "* for such qualified users as you, I'll do it now"
   ]
  },
  {
   "cell_type": "markdown",
   "metadata": {},
   "source": [
    "# <center> Functions</center>"
   ]
  },
  {
   "cell_type": "markdown",
   "metadata": {},
   "source": [
    "<img src=\"http://swcarpentry.github.io/swc-releases/2017.02/python-novice-inflammation/fig/python-function.svg\" alt=\"drawing\" width=\"600\"/>"
   ]
  },
  {
   "cell_type": "markdown",
   "metadata": {},
   "source": [
    "Example. Write a function that returns \"even\" if the number is even and \"odd\" otherwise."
   ]
  },
  {
   "cell_type": "markdown",
   "metadata": {},
   "source": [
    "The following code solves the problem\n",
    "```python\n",
    "def even_odd(integer):\n",
    "    if integer % 2 == 0:\n",
    "        return \"even\"\n",
    "    else:\n",
    "        return \"odd\"\n",
    "\n",
    "print(3, \"is\", even_odd(3))\n",
    "print(10, \"is\", even_odd(10))\n",
    "```"
   ]
  },
  {
   "cell_type": "code",
   "execution_count": null,
   "metadata": {},
   "outputs": [],
   "source": [
    "def even_odd(integer):\n",
    "    if integer % 2 == 0:\n",
    "        return \"even\"\n",
    "    else:\n",
    "        return \"odd\"\n",
    "\n",
    "print(3, \"is\", even_odd(3))\n",
    "print(10, \"is\", even_odd(10))"
   ]
  },
  {
   "cell_type": "markdown",
   "metadata": {},
   "source": [
    "<img src=\"https://i1.faceprep.in/Companies-1/python-lambda-functions-new.png\" alt=\"drawing\" width=\"500\"/>"
   ]
  },
  {
   "cell_type": "code",
   "execution_count": null,
   "metadata": {},
   "outputs": [],
   "source": [
    "even_odd_lambda = lambda integer: \"even\" if integer % 2 == 0 else \"odd\"\n",
    "\n",
    "print(3, \"is\", even_odd_lambda(3))\n",
    "print(10, \"is\", even_odd_lambda(10))"
   ]
  },
  {
   "cell_type": "markdown",
   "metadata": {},
   "source": [
    "By using functions repeat the calculation a final grade for a student, who received  2.5 for Exam and  4.8,  5,  3.5, and  4.2 for the presentations."
   ]
  },
  {
   "cell_type": "code",
   "execution_count": null,
   "metadata": {},
   "outputs": [],
   "source": [
    "# YOUR CODE IS HERE\n",
    "def process_input():\n",
    "    pass\n",
    "def grade_equation(exam, p1, p2, p3, p4):\n",
    "    #returns grade_prelim\n",
    "    pass\n",
    "def grade_rounding(grade_prelim):\n",
    "    #returns final grade\n",
    "    pass"
   ]
  },
  {
   "cell_type": "markdown",
   "metadata": {},
   "source": [
    "## Remark about print and return\n",
    "\n",
    "Up to this point, we have used print to look at the output of our program. Because of this, as practice shows, it might seem that print can return the result in a function. "
   ]
  },
  {
   "cell_type": "code",
   "execution_count": null,
   "metadata": {
    "scrolled": true
   },
   "outputs": [],
   "source": [
    "def my_function_return(x):\n",
    "    return x\n",
    "\n",
    "def my_function_print(x):\n",
    "    print(x)\n",
    "    \n",
    "print(\"my_function_return:\", str(my_function_return(67)))\n",
    "print(\"my_function_print:\", str(my_function_print(67)))\n"
   ]
  },
  {
   "cell_type": "markdown",
   "metadata": {},
   "source": [
    "## Functions with `turtle`\n",
    "__purpose__: drawing with ````turtle````\n",
    "\n",
    "* __Task__ to connect the sequence of points and make dots, shows coordinates (the choice of the user)"
   ]
  },
  {
   "cell_type": "code",
   "execution_count": null,
   "metadata": {},
   "outputs": [],
   "source": [
    "import turtle\n",
    "#Draw image and return home\n",
    "def draw_image(points, scale = 1):\n",
    "    po = [[p[0] * scale, p[1] * scale] for p in points]\n",
    "    t.penup()\n",
    "    t.setx(po[0][0]) \n",
    "    t.sety(po[0][1])\n",
    "    t.pendown()\n",
    "    for p in po:\n",
    "        t.goto(p[0], p[1])\n",
    "    t.penup()\n",
    "    t.home()\n",
    "    t.pendown()\n",
    "    return\n",
    "\n",
    "#Draw dot and return home\n",
    "def draw_dot(dot, scale = 1, size = 5, color = 'black'):\n",
    "    dot = [dot[0] * scale, dot[1] * scale]\n",
    "    t.penup()\n",
    "    t.goto(dot[0], dot[1])\n",
    "    t.pendown()\n",
    "    t.dot(size, color)\n",
    "    t.penup()\n",
    "    t.home()\n",
    "    t.pendown()\n",
    "    return"
   ]
  },
  {
   "cell_type": "code",
   "execution_count": null,
   "metadata": {},
   "outputs": [],
   "source": [
    "import turtle\n",
    "t=turtle.Turtle()\n",
    "turtle.delay(40) #delay in miliseconds at each step\n",
    "scale = 10 #scales the image\n",
    "\n",
    "points = [[1, 13], [3, 13], [4, 14], [5, 14], [6, 15], [6, 14], [9, 11], [18, 11], [20, 9], [20, 5], [19, 3], [19, 7], [17, 1], [15, 1], [16, 2], [16, 4], [15, 7], [13, 6], [10, 7], [9, 7], [8, 6], [7, 2], [7, 1], [5, 1], [6, 2], [6, 7], [5, 8], [4, 11], [1, 12], [1, 13]]\n",
    "dot = [4, 13]\n",
    "\n",
    "draw_image(points, scale)\n",
    "draw_dot(dot, scale)\n",
    "\n",
    "turtle.mainloop()\n",
    "#click Kernel then Restart & Clear Output to stop the program and restart\n",
    "#if you want to continue drawing comment the turtle.mainloop() command and use t.reset() to reset the turtle screen\n"
   ]
  },
  {
   "cell_type": "code",
   "execution_count": null,
   "metadata": {},
   "outputs": [],
   "source": [
    "t.reset()"
   ]
  },
  {
   "cell_type": "code",
   "execution_count": null,
   "metadata": {},
   "outputs": [],
   "source": [
    "import turtle\n",
    "t=turtle.Turtle()\n",
    "turtle.delay(60) #delay in miliseconds at each step\n",
    "scale = 10 #scales the image\n",
    "\n",
    "points1 = [3, 4], [4, 5], [4, 6], [3, 7], [2, 7], [1, 6], [1, 4], [3, 2], [6, 2], [6, 5], [9, 8], [8, 9], [7, 8], [5, 8], [3, 10], [3, 12], [5, 14], [7, 14], [8, 13], [9, 14], [8, 15], [8, 17], [10, 19], [12, 19], [14, 17], [14, 15], [13, 14], [17, 10], [17, 9], [16, 8], [12, 8], [15, 5], [15, 4], [14, 4], [15, 3], [15, 2], [14, 1], [7, 1], [6, 2]\n",
    "points2 = [17, 12], [16, 10], [18, 11]\n",
    "points3 = [14, 7], [15, 9], [15, 7]\n",
    "dot1 = [10, 11]\n",
    "dot2 = [12, 13]\n",
    "\n",
    "draw_image(points1, scale)\n",
    "draw_image(points2, scale)\n",
    "draw_image(points3, scale)\n",
    "draw_dot(dot1, scale)\n",
    "draw_dot(dot2, scale)\n",
    "\n",
    "#turtle.mainloop()\n"
   ]
  },
  {
   "cell_type": "code",
   "execution_count": null,
   "metadata": {},
   "outputs": [],
   "source": []
  }
 ],
 "metadata": {
  "kernelspec": {
   "display_name": "Python 3 (ipykernel)",
   "language": "python",
   "name": "python3"
  },
  "language_info": {
   "codemirror_mode": {
    "name": "ipython",
    "version": 3
   },
   "file_extension": ".py",
   "mimetype": "text/x-python",
   "name": "python",
   "nbconvert_exporter": "python",
   "pygments_lexer": "ipython3",
   "version": "3.9.18"
  },
  "toc": {
   "base_numbering": 1,
   "nav_menu": {},
   "number_sections": true,
   "sideBar": true,
   "skip_h1_title": true,
   "title_cell": "Table of Contents",
   "title_sidebar": "Contents",
   "toc_cell": false,
   "toc_position": {},
   "toc_section_display": true,
   "toc_window_display": false
  }
 },
 "nbformat": 4,
 "nbformat_minor": 2
}
